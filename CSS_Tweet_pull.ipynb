{
 "cells": [
  {
   "cell_type": "code",
   "execution_count": 1,
   "id": "f82a2fd3",
   "metadata": {},
   "outputs": [],
   "source": [
    "#Test to open csv files and convert them into the right shape"
   ]
  },
  {
   "cell_type": "code",
   "execution_count": 2,
   "id": "3148efa3",
   "metadata": {},
   "outputs": [],
   "source": [
    "import numpy as np\n",
    "import pandas as pd"
   ]
  },
  {
   "cell_type": "code",
   "execution_count": 3,
   "id": "e59f878b",
   "metadata": {},
   "outputs": [],
   "source": [
    "data_tweets = pd.read_csv('tweets_data_0121_0205.csv')"
   ]
  },
  {
   "cell_type": "code",
   "execution_count": 4,
   "id": "d08708ce",
   "metadata": {},
   "outputs": [
    {
     "name": "stdout",
     "output_type": "stream",
     "text": [
      "   Unnamed: 0        Date  Positives  Negatives  Neutrals\n",
      "0           0  2022/01/21         25         11        45\n",
      "1           1  2022/01/22         25         16        69\n",
      "2           2  2022/01/23         16         14        87\n",
      "3           3  2022/01/24         44         21       135\n",
      "4           4  2022/01/25         43         15       132\n"
     ]
    }
   ],
   "source": [
    "print(data.head())"
   ]
  },
  {
   "cell_type": "code",
   "execution_count": 5,
   "id": "b11d0374",
   "metadata": {},
   "outputs": [],
   "source": [
    "pos = np.array(data_tweets['Positives'])\n",
    "neg = np.array(data_tweets['Negatives'])\n",
    "neu = np.array(data_tweets['Neutrals'])"
   ]
  },
  {
   "cell_type": "code",
   "execution_count": 6,
   "id": "34db37ed",
   "metadata": {},
   "outputs": [
    {
     "data": {
      "text/plain": [
       "array([11, 16, 14, 21, 15, 23, 12,  7,  7,  5,  5, 12,  7,  6, 13,  6],\n",
       "      dtype=int64)"
      ]
     },
     "execution_count": 6,
     "metadata": {},
     "output_type": "execute_result"
    }
   ],
   "source": []
  },
  {
   "cell_type": "code",
   "execution_count": 16,
   "id": "d880b2a9",
   "metadata": {},
   "outputs": [
    {
     "data": {
      "text/plain": [
       "array([[ 25,  11,  45],\n",
       "       [ 25,  16,  69],\n",
       "       [ 16,  14,  87],\n",
       "       [ 44,  21, 135],\n",
       "       [ 43,  15, 132],\n",
       "       [ 40,  23, 111],\n",
       "       [ 37,  12,  81],\n",
       "       [ 10,   7,  20],\n",
       "       [  9,   7,  23],\n",
       "       [  9,   5,  29],\n",
       "       [ 11,   5,  25],\n",
       "       [ 16,  12,  25],\n",
       "       [ 16,   7,  37],\n",
       "       [ 12,   6,  31],\n",
       "       [ 11,  13,  37],\n",
       "       [ 10,   6,  25]])"
      ]
     },
     "execution_count": 16,
     "metadata": {},
     "output_type": "execute_result"
    }
   ],
   "source": [
    "tweets_array=np.array([])\n",
    "for i in range(len(pos)):\n",
    "    tweets_array = np.append(tweets_array , pos[i])\n",
    "    tweets_array = np.append(tweets_array , neg[i])\n",
    "    tweets_array = np.append(tweets_array , neu[i])\n",
    "    \n",
    "\n",
    "tweets_array = tweets_array.reshape((-1,3))\n",
    "tweets_array = tweets_array.astype(int)\n",
    "tweets_array"
   ]
  },
  {
   "cell_type": "code",
   "execution_count": 11,
   "id": "c36ef49d",
   "metadata": {},
   "outputs": [
    {
     "data": {
      "text/plain": [
       "2.0"
      ]
     },
     "execution_count": 11,
     "metadata": {},
     "output_type": "execute_result"
    }
   ],
   "source": []
  },
  {
   "cell_type": "code",
   "execution_count": 13,
   "id": "949f383c",
   "metadata": {},
   "outputs": [
    {
     "data": {
      "text/plain": [
       "array([2, 2, 2, 0])"
      ]
     },
     "execution_count": 13,
     "metadata": {},
     "output_type": "execute_result"
    }
   ],
   "source": []
  },
  {
   "cell_type": "code",
   "execution_count": null,
   "id": "2788eb12",
   "metadata": {},
   "outputs": [],
   "source": []
  }
 ],
 "metadata": {
  "kernelspec": {
   "display_name": "Python 3 (ipykernel)",
   "language": "python",
   "name": "python3"
  },
  "language_info": {
   "codemirror_mode": {
    "name": "ipython",
    "version": 3
   },
   "file_extension": ".py",
   "mimetype": "text/x-python",
   "name": "python",
   "nbconvert_exporter": "python",
   "pygments_lexer": "ipython3",
   "version": "3.9.7"
  }
 },
 "nbformat": 4,
 "nbformat_minor": 5
}
