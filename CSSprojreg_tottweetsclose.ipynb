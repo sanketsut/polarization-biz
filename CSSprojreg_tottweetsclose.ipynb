{
 "cells": [
  {
   "cell_type": "code",
   "execution_count": 1,
   "id": "40462a3c",
   "metadata": {},
   "outputs": [],
   "source": [
    "import numpy as np\n",
    "import seaborn as sns\n",
    "sns.set_theme(style=\"darkgrid\")\n",
    "import pandas as pd\n",
    "import matplotlib.pyplot as plt\n",
    "from sklearn.linear_model import LinearRegression\n",
    "#for polynomial eq import the below statement\n",
    "from sklearn.preprocessing import PolynomialFeatures\n",
    "from numpy import mean\n",
    "from numpy import std\n",
    "from numpy import cov\n",
    "from scipy.stats import pearsonr"
   ]
  },
  {
   "cell_type": "code",
   "execution_count": 2,
   "id": "c39fd869",
   "metadata": {},
   "outputs": [
    {
     "data": {
      "text/plain": [
       "array([[ 25,  11,  45],\n",
       "       [ 25,  16,  69],\n",
       "       [ 16,  14,  87],\n",
       "       [ 44,  21, 135],\n",
       "       [ 43,  15, 132],\n",
       "       [ 40,  23, 111],\n",
       "       [ 37,  12,  81],\n",
       "       [ 10,   7,  20],\n",
       "       [  9,   7,  23],\n",
       "       [  9,   5,  29],\n",
       "       [ 11,   5,  25],\n",
       "       [ 16,  12,  25],\n",
       "       [ 16,   7,  37],\n",
       "       [ 12,   6,  31],\n",
       "       [ 11,  13,  37],\n",
       "       [ 10,   6,  25]])"
      ]
     },
     "execution_count": 2,
     "metadata": {},
     "output_type": "execute_result"
    }
   ],
   "source": [
    "data_tweets = pd.read_csv('tweets_data_0121_0205.csv')\n",
    "pos = np.array(data_tweets['Positives'])\n",
    "neg = np.array(data_tweets['Negatives'])\n",
    "neu = np.array(data_tweets['Neutrals'])\n",
    "senti=np.array([])\n",
    "for i in range(len(pos)):\n",
    "    senti = np.append(senti , pos[i])\n",
    "    senti = np.append(senti , neg[i])\n",
    "    senti = np.append(senti , neu[i])\n",
    "    \n",
    "senti = senti.reshape((-1,3))\n",
    "senti = senti.astype(int)\n",
    "senti"
   ]
  },
  {
   "cell_type": "code",
   "execution_count": 3,
   "id": "d1a7c08c",
   "metadata": {},
   "outputs": [
    {
     "data": {
      "text/plain": [
       "array([[3.08500e+01, 3.10800e+01, 3.05500e+01, 3.07100e+01, 1.74726e+07],\n",
       "       [2.94000e+01, 2.99900e+01, 2.88900e+01, 2.99800e+01, 2.09937e+07],\n",
       "       [3.02500e+01, 3.14800e+01, 2.98500e+01, 3.14000e+01, 1.76550e+07],\n",
       "       [3.20100e+01, 3.21300e+01, 3.12400e+01, 3.15000e+01, 1.66200e+07],\n",
       "       [3.20200e+01, 3.21500e+01, 3.11400e+01, 3.15300e+01, 1.46987e+07],\n",
       "       [3.10500e+01, 3.13500e+01, 3.06500e+01, 3.10700e+01, 1.46092e+07],\n",
       "       [3.11200e+01, 3.11400e+01, 3.07500e+01, 3.09200e+01, 1.01790e+07],\n",
       "       [3.12000e+01, 3.18900e+01, 3.10700e+01, 3.17600e+01, 1.54091e+07],\n",
       "       [3.18000e+01, 3.20300e+01, 3.16200e+01, 3.19600e+01, 1.17752e+07],\n",
       "       [3.20700e+01, 3.23400e+01, 3.16800e+01, 3.21500e+01, 1.31731e+07],\n",
       "       [3.27200e+01, 3.31900e+01, 3.26900e+01, 3.28800e+01, 1.69326e+07]])"
      ]
     },
     "execution_count": 3,
     "metadata": {},
     "output_type": "execute_result"
    }
   ],
   "source": [
    "data_stocks = pd.read_csv('BP.csv')\n",
    "#pos = np.array(data_tweets['Date'])\n",
    "#pos\n",
    "#print(data_tweets)\n",
    "stock = data_stocks.drop(columns=['Date'])\n",
    "stock=stock.to_numpy()\n",
    "stock"
   ]
  },
  {
   "cell_type": "code",
   "execution_count": 4,
   "id": "28501cc3",
   "metadata": {},
   "outputs": [],
   "source": [
    "np.set_printoptions(suppress=True)"
   ]
  },
  {
   "cell_type": "code",
   "execution_count": 5,
   "id": "8afe39cc",
   "metadata": {},
   "outputs": [
    {
     "data": {
      "text/plain": [
       "array([[      30.85,       31.08,       30.55,       30.71, 17472600.  ],\n",
       "       [      29.4 ,       29.99,       28.89,       29.98, 20993700.  ],\n",
       "       [      30.25,       31.48,       29.85,       31.4 , 17655000.  ],\n",
       "       [      32.01,       32.13,       31.24,       31.5 , 16620000.  ],\n",
       "       [      32.02,       32.15,       31.14,       31.53, 14698700.  ],\n",
       "       [      31.05,       31.35,       30.65,       31.07, 14609200.  ],\n",
       "       [      31.12,       31.14,       30.75,       30.92, 10179000.  ],\n",
       "       [      31.2 ,       31.89,       31.07,       31.76, 15409100.  ],\n",
       "       [      31.8 ,       32.03,       31.62,       31.96, 11775200.  ],\n",
       "       [      32.07,       32.34,       31.68,       32.15, 13173100.  ],\n",
       "       [      32.72,       33.19,       32.69,       32.88, 16932600.  ]])"
      ]
     },
     "execution_count": 5,
     "metadata": {},
     "output_type": "execute_result"
    }
   ],
   "source": [
    "stock"
   ]
  },
  {
   "cell_type": "code",
   "execution_count": 6,
   "id": "5d8859a5",
   "metadata": {},
   "outputs": [
    {
     "name": "stdout",
     "output_type": "stream",
     "text": [
      "[[ 25  11  45]\n",
      " [ 28  17  97]\n",
      " [ 43  15 132]\n",
      " [ 40  23 111]\n",
      " [ 37  12  81]\n",
      " [ 10   7  20]\n",
      " [  9   5  25]\n",
      " [ 16  12  25]\n",
      " [ 16   7  37]\n",
      " [ 12   6  31]\n",
      " [ 11  13  37]]\n",
      "-----------------\n",
      "[[      30.85       31.08       30.55       30.71 17472600.  ]\n",
      " [      29.4        29.99       28.89       29.98 20993700.  ]\n",
      " [      30.25       31.48       29.85       31.4  17655000.  ]\n",
      " [      32.01       32.13       31.24       31.5  16620000.  ]\n",
      " [      32.02       32.15       31.14       31.53 14698700.  ]\n",
      " [      31.05       31.35       30.65       31.07 14609200.  ]\n",
      " [      31.12       31.14       30.75       30.92 10179000.  ]\n",
      " [      31.2        31.89       31.07       31.76 15409100.  ]\n",
      " [      31.8        32.03       31.62       31.96 11775200.  ]\n",
      " [      32.07       32.34       31.68       32.15 13173100.  ]\n",
      " [      32.72       33.19       32.69       32.88 16932600.  ]]\n",
      "-----------------\n",
      "Sentiment length:  11\n",
      "Stock length:  11\n"
     ]
    }
   ],
   "source": [
    "'''\n",
    "00: 21.Jan\n",
    "01: 24.Jan , Monday\n",
    "02: 25.Jan\n",
    "03: 26.Jan\n",
    "04: 27.Jan\n",
    "05: 28.Jan\n",
    "06: 31.Jan , Monday\n",
    "07: 01.Feb\n",
    "08: 02.Feb\n",
    "09: 03.Feb\n",
    "10: 04.Feb\n",
    "\n",
    "\n",
    "\n",
    "senti = np.array(tweets_array)\n",
    "stock=df\n",
    "'''\n",
    "\n",
    "senti[3]=(senti[3]+senti[1]+senti[2])/3\n",
    "senti[10]=(senti[10]+senti[8]+senti[9])/3\n",
    "\n",
    "senti=np.delete(senti, 1,0)\n",
    "senti=np.delete(senti, 1,0)\n",
    "senti=np.delete(senti, 6,0)\n",
    "senti=np.delete(senti, 6,0)\n",
    "senti=np.delete(senti, 11,0)\n",
    "\n",
    "\n",
    "print(senti)\n",
    "print('-----------------')\n",
    "print(stock)\n",
    "print('-----------------')\n",
    "print(\"Sentiment length: \" , len(senti))\n",
    "print(\"Stock length: \" , len(stock))\n"
   ]
  },
  {
   "cell_type": "code",
   "execution_count": 7,
   "id": "91479081",
   "metadata": {},
   "outputs": [
    {
     "data": {
      "text/plain": [
       "array([[ 25,  11,  45,  81],\n",
       "       [ 28,  17,  97, 142],\n",
       "       [ 43,  15, 132, 190],\n",
       "       [ 40,  23, 111, 174],\n",
       "       [ 37,  12,  81, 130],\n",
       "       [ 10,   7,  20,  37],\n",
       "       [  9,   5,  25,  39],\n",
       "       [ 16,  12,  25,  53],\n",
       "       [ 16,   7,  37,  60],\n",
       "       [ 12,   6,  31,  49],\n",
       "       [ 11,  13,  37,  61]])"
      ]
     },
     "execution_count": 7,
     "metadata": {},
     "output_type": "execute_result"
    }
   ],
   "source": [
    "tot = np.sum(senti,axis=1)\n",
    "senti = np.insert(senti,3,tot,axis=1)\n",
    "senti"
   ]
  },
  {
   "cell_type": "code",
   "execution_count": 8,
   "id": "d87a9f0a",
   "metadata": {},
   "outputs": [
    {
     "name": "stdout",
     "output_type": "stream",
     "text": [
      "[ 37  39  49  53  60  61  81 130 142 174 190]\n",
      "[31.07 30.92 32.15 31.76 31.96 32.88 30.71 31.53 29.98 31.5  31.4 ]\n"
     ]
    }
   ],
   "source": [
    "x = senti[:,3]\n",
    "y = stock[:,3]\n",
    "p = x.argsort()\n",
    "x = x[p]\n",
    "y = y[p]\n",
    "print(x)\n",
    "print(y)"
   ]
  },
  {
   "cell_type": "code",
   "execution_count": 9,
   "id": "89f30ec2",
   "metadata": {},
   "outputs": [
    {
     "data": {
      "image/png": "[encoded data removed]",
      "text/plain": [
       "<Figure size 432x288 with 1 Axes>"
      ]
     },
     "metadata": {},
     "output_type": "display_data"
    }
   ],
   "source": [
    "plt.scatter(x,y)\n",
    "plt.show()\n",
    "#x axis tweets, y axis close value"
   ]
  },
  {
   "cell_type": "code",
   "execution_count": 10,
   "id": "5dca3d57",
   "metadata": {},
   "outputs": [
    {
     "name": "stdout",
     "output_type": "stream",
     "text": [
      "[[3158.05454545  -11.69372727]\n",
      " [ -11.69372727    0.60355636]]\n"
     ]
    }
   ],
   "source": [
    "covar = cov(x,y)\n",
    "print(covar)"
   ]
  },
  {
   "cell_type": "code",
   "execution_count": 11,
   "id": "e0064179",
   "metadata": {},
   "outputs": [
    {
     "name": "stdout",
     "output_type": "stream",
     "text": [
      "Pearson coeff: -0.26784542378196174\n"
     ]
    }
   ],
   "source": [
    "corr,_ = pearsonr(x,y)\n",
    "print('Pearson coeff:',corr)"
   ]
  },
  {
   "cell_type": "markdown",
   "id": "aa2bd97f",
   "metadata": {},
   "source": [
    "linear equation, degree 1"
   ]
  },
  {
   "cell_type": "code",
   "execution_count": 12,
   "id": "3b0530d0",
   "metadata": {},
   "outputs": [
    {
     "name": "stdout",
     "output_type": "stream",
     "text": [
      "[[ 37]\n",
      " [ 39]\n",
      " [ 49]\n",
      " [ 53]\n",
      " [ 60]\n",
      " [ 61]\n",
      " [ 81]\n",
      " [130]\n",
      " [142]\n",
      " [174]\n",
      " [190]]\n"
     ]
    }
   ],
   "source": [
    "x1=x.reshape((-1,1))\n",
    "print(x1)"
   ]
  },
  {
   "cell_type": "code",
   "execution_count": 13,
   "id": "3add76a3",
   "metadata": {},
   "outputs": [
    {
     "name": "stdout",
     "output_type": "stream",
     "text": [
      "Coeff of covar: 0.07174117104093891\n",
      "Intercept: 31.78382467917533\n",
      "Slope: [-0.00370283]\n"
     ]
    }
   ],
   "source": [
    "model = LinearRegression().fit(x1,y)\n",
    "rsq = model.score(x1,y)\n",
    "print('Coeff of covar:',rsq)\n",
    "print('Intercept:',model.intercept_)\n",
    "print('Slope:',model.coef_)"
   ]
  },
  {
   "cell_type": "code",
   "execution_count": 14,
   "id": "38930711",
   "metadata": {},
   "outputs": [
    {
     "name": "stdout",
     "output_type": "stream",
     "text": [
      "predicted response:\n",
      "[31.64682011 31.63941446 31.60238619 31.58757489 31.5616551  31.55795228\n",
      " 31.48389575 31.30245727 31.25802335 31.13953291 31.08028769]\n"
     ]
    }
   ],
   "source": [
    "y_pred = model.predict(x1)\n",
    "print('predicted response:',y_pred, sep='\\n')"
   ]
  },
  {
   "cell_type": "code",
   "execution_count": 15,
   "id": "dc6a5515",
   "metadata": {},
   "outputs": [
    {
     "data": {
      "image/png": "[encoded data removed]",
      "text/plain": [
       "<Figure size 432x288 with 1 Axes>"
      ]
     },
     "metadata": {},
     "output_type": "display_data"
    }
   ],
   "source": [
    "plt.scatter(x,y,color='red')\n",
    "plt.plot(x,y_pred,color='green')\n",
    "#plt.title(\"Linear eq in 1 variable\")\n",
    "#plt.xlabel(\"Difference in twitter mood\")\n",
    "#plt.ylabel(\"Change in stock value\")\n",
    "plt.show()"
   ]
  },
  {
   "cell_type": "markdown",
   "id": "e315c517",
   "metadata": {},
   "source": [
    "quadratic equation, degree = 2"
   ]
  },
  {
   "cell_type": "code",
   "execution_count": 16,
   "id": "9f58580e",
   "metadata": {},
   "outputs": [
    {
     "name": "stdout",
     "output_type": "stream",
     "text": [
      "[[    1.    37.  1369.]\n",
      " [    1.    39.  1521.]\n",
      " [    1.    49.  2401.]\n",
      " [    1.    53.  2809.]\n",
      " [    1.    60.  3600.]\n",
      " [    1.    61.  3721.]\n",
      " [    1.    81.  6561.]\n",
      " [    1.   130. 16900.]\n",
      " [    1.   142. 20164.]\n",
      " [    1.   174. 30276.]\n",
      " [    1.   190. 36100.]]\n"
     ]
    }
   ],
   "source": [
    "x2 = PolynomialFeatures(degree=2).fit_transform(x1)\n",
    "print(x2)"
   ]
  },
  {
   "cell_type": "code",
   "execution_count": 17,
   "id": "fa789d78",
   "metadata": {},
   "outputs": [
    {
     "name": "stdout",
     "output_type": "stream",
     "text": [
      "Coeff of covar: 0.08449627506783086\n",
      "Slope: [ 0.         -0.01354886  0.00004472]\n",
      "Intercept: 32.1833931987457\n"
     ]
    }
   ],
   "source": [
    "model2 = LinearRegression().fit(x2,y)\n",
    "rsq2 = model2.score(x2,y)\n",
    "print('Coeff of covar:',rsq2)\n",
    "print('Slope:',model2.coef_)\n",
    "print('Intercept:',model2.intercept_)"
   ]
  },
  {
   "cell_type": "code",
   "execution_count": 18,
   "id": "971b25ec",
   "metadata": {},
   "outputs": [
    {
     "name": "stdout",
     "output_type": "stream",
     "text": [
      "predicted response:\n",
      "[31.74330103 31.72300008 31.62686119 31.5909097  31.5314377  31.52329943\n",
      " 31.37931445 31.17773457 31.16109986 31.17970014 31.22334184]\n"
     ]
    }
   ],
   "source": [
    "y_pred2 = model2.predict(x2)\n",
    "print('predicted response:', y_pred2, sep='\\n')"
   ]
  },
  {
   "cell_type": "code",
   "execution_count": 19,
   "id": "8856a5ff",
   "metadata": {},
   "outputs": [
    {
     "data": {
      "image/png": "[encoded data removed]",
      "text/plain": [
       "<Figure size 432x288 with 1 Axes>"
      ]
     },
     "metadata": {},
     "output_type": "display_data"
    }
   ],
   "source": [
    "plt.scatter(x,y,color='red')\n",
    "plt.plot(x,y_pred2,color='green')\n",
    "#plt.plot(x,y_predq,'ro-')\n",
    "plt.show()"
   ]
  },
  {
   "cell_type": "markdown",
   "id": "a69afbba",
   "metadata": {},
   "source": [
    "cubic equation, degree = 3"
   ]
  },
  {
   "cell_type": "code",
   "execution_count": 20,
   "id": "b8451b86",
   "metadata": {},
   "outputs": [
    {
     "name": "stdout",
     "output_type": "stream",
     "text": [
      "[[      1.      37.    1369.   50653.]\n",
      " [      1.      39.    1521.   59319.]\n",
      " [      1.      49.    2401.  117649.]\n",
      " [      1.      53.    2809.  148877.]\n",
      " [      1.      60.    3600.  216000.]\n",
      " [      1.      61.    3721.  226981.]\n",
      " [      1.      81.    6561.  531441.]\n",
      " [      1.     130.   16900. 2197000.]\n",
      " [      1.     142.   20164. 2863288.]\n",
      " [      1.     174.   30276. 5268024.]\n",
      " [      1.     190.   36100. 6859000.]]\n",
      "Coeff of covar: 0.33401813970990923\n",
      "Slope: [ 0.          0.13659517 -0.001455    0.00000442]\n",
      "Intercept: 27.97097106329115\n",
      "predicted response:\n",
      "[31.2568454  31.34715565 31.69036537 31.78104772 31.88280733 31.8918532\n",
      " 31.83642807 30.84350178 30.67666865 30.95701361 31.69631322]\n"
     ]
    },
    {
     "data": {
      "image/png": "[encoded data removed]",
      "text/plain": [
       "<Figure size 432x288 with 1 Axes>"
      ]
     },
     "metadata": {},
     "output_type": "display_data"
    }
   ],
   "source": [
    "x3 = PolynomialFeatures(degree=3).fit_transform(x1)\n",
    "print(x3)\n",
    "\n",
    "model3 = LinearRegression().fit(x3,y)\n",
    "\n",
    "rsq3 = model3.score(x3,y)\n",
    "print('Coeff of covar:',rsq3)\n",
    "print('Slope:',model3.coef_)\n",
    "print('Intercept:',model3.intercept_)\n",
    "\n",
    "y_pred3 = model3.predict(x3)\n",
    "print('predicted response:', y_pred3, sep='\\n')\n",
    "\n",
    "plt.scatter(x,y,color='red')\n",
    "plt.plot(x,y_pred3,color='green')\n",
    "plt.show()"
   ]
  },
  {
   "cell_type": "markdown",
   "id": "bd63bb04",
   "metadata": {},
   "source": [
    "degree = 4"
   ]
  },
  {
   "cell_type": "code",
   "execution_count": 21,
   "id": "04c3f012",
   "metadata": {},
   "outputs": [
    {
     "name": "stdout",
     "output_type": "stream",
     "text": [
      "[[1.00000000e+00 3.70000000e+01 1.36900000e+03 5.06530000e+04\n",
      "  1.87416100e+06]\n",
      " [1.00000000e+00 3.90000000e+01 1.52100000e+03 5.93190000e+04\n",
      "  2.31344100e+06]\n",
      " [1.00000000e+00 4.90000000e+01 2.40100000e+03 1.17649000e+05\n",
      "  5.76480100e+06]\n",
      " [1.00000000e+00 5.30000000e+01 2.80900000e+03 1.48877000e+05\n",
      "  7.89048100e+06]\n",
      " [1.00000000e+00 6.00000000e+01 3.60000000e+03 2.16000000e+05\n",
      "  1.29600000e+07]\n",
      " [1.00000000e+00 6.10000000e+01 3.72100000e+03 2.26981000e+05\n",
      "  1.38458410e+07]\n",
      " [1.00000000e+00 8.10000000e+01 6.56100000e+03 5.31441000e+05\n",
      "  4.30467210e+07]\n",
      " [1.00000000e+00 1.30000000e+02 1.69000000e+04 2.19700000e+06\n",
      "  2.85610000e+08]\n",
      " [1.00000000e+00 1.42000000e+02 2.01640000e+04 2.86328800e+06\n",
      "  4.06586896e+08]\n",
      " [1.00000000e+00 1.74000000e+02 3.02760000e+04 5.26802400e+06\n",
      "  9.16636176e+08]\n",
      " [1.00000000e+00 1.90000000e+02 3.61000000e+04 6.85900000e+06\n",
      "  1.30321000e+09]]\n",
      "Coeff of covar: 0.4719044355954448\n",
      "Slope: [ 0.          0.52354653 -0.00801922  0.00004839 -0.0000001 ]\n",
      "Intercept: 20.357786032907825\n",
      "predicted response:\n",
      "[31.01368532 31.21710436 31.87172453 31.99175663 32.05241831 32.04805798\n",
      " 31.54483389 30.52308882 30.72207673 31.52148816 31.35376527]\n"
     ]
    },
    {
     "data": {
      "image/png": "[encoded data removed]",
      "text/plain": [
       "<Figure size 432x288 with 1 Axes>"
      ]
     },
     "metadata": {},
     "output_type": "display_data"
    }
   ],
   "source": [
    "x4 = PolynomialFeatures(degree=4).fit_transform(x1)\n",
    "print(x4)\n",
    "\n",
    "model4 = LinearRegression().fit(x4,y)\n",
    "\n",
    "rsq4 = model4.score(x4,y)\n",
    "print('Coeff of covar:',rsq4)\n",
    "print('Slope:',model4.coef_)\n",
    "print('Intercept:',model4.intercept_)\n",
    "\n",
    "y_pred4 = model4.predict(x4)\n",
    "print('predicted response:', y_pred4, sep='\\n')\n",
    "\n",
    "plt.scatter(x,y,color='red')\n",
    "plt.plot(x,y_pred4,color='green')\n",
    "plt.show()"
   ]
  }
 ],
 "metadata": {
  "kernelspec": {
   "display_name": "Python 3 (ipykernel)",
   "language": "python",
   "name": "python3"
  },
  "language_info": {
   "codemirror_mode": {
    "name": "ipython",
    "version": 3
   },
   "file_extension": ".py",
   "mimetype": "text/x-python",
   "name": "python",
   "nbconvert_exporter": "python",
   "pygments_lexer": "ipython3",
   "version": "3.9.2"
  }
 },
 "nbformat": 4,
 "nbformat_minor": 5
}
