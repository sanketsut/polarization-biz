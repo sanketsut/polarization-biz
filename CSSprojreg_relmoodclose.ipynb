{
 "cells": [
  {
   "cell_type": "code",
   "execution_count": 1,
   "id": "89c39d1a",
   "metadata": {},
   "outputs": [],
   "source": [
    "import numpy as np\n",
    "import seaborn as sns\n",
    "sns.set_theme(style=\"darkgrid\")\n",
    "import pandas as pd\n",
    "import matplotlib.pyplot as plt\n",
    "from sklearn.linear_model import LinearRegression\n",
    "#for polynomial eq import the below statement\n",
    "from sklearn.preprocessing import PolynomialFeatures\n",
    "from numpy import mean\n",
    "from numpy import std\n",
    "from numpy import cov\n",
    "from scipy.stats import pearsonr"
   ]
  },
  {
   "cell_type": "code",
   "execution_count": 2,
   "id": "91e88553",
   "metadata": {},
   "outputs": [
    {
     "data": {
      "text/plain": [
       "array([[ 25,  11,  45],\n",
       "       [ 25,  16,  69],\n",
       "       [ 16,  14,  87],\n",
       "       [ 44,  21, 135],\n",
       "       [ 43,  15, 132],\n",
       "       [ 40,  23, 111],\n",
       "       [ 37,  12,  81],\n",
       "       [ 10,   7,  20],\n",
       "       [  9,   7,  23],\n",
       "       [  9,   5,  29],\n",
       "       [ 11,   5,  25],\n",
       "       [ 16,  12,  25],\n",
       "       [ 16,   7,  37],\n",
       "       [ 12,   6,  31],\n",
       "       [ 11,  13,  37],\n",
       "       [ 10,   6,  25]])"
      ]
     },
     "execution_count": 2,
     "metadata": {},
     "output_type": "execute_result"
    }
   ],
   "source": [
    "data_tweets = pd.read_csv('tweets_data_0121_0205.csv')\n",
    "pos = np.array(data_tweets['Positives'])\n",
    "neg = np.array(data_tweets['Negatives'])\n",
    "neu = np.array(data_tweets['Neutrals'])\n",
    "senti=np.array([])\n",
    "for i in range(len(pos)):\n",
    "    senti = np.append(senti , pos[i])\n",
    "    senti = np.append(senti , neg[i])\n",
    "    senti = np.append(senti , neu[i])\n",
    "    \n",
    "senti = senti.reshape((-1,3))\n",
    "senti = senti.astype(int)\n",
    "senti"
   ]
  },
  {
   "cell_type": "code",
   "execution_count": 3,
   "id": "43e69808",
   "metadata": {},
   "outputs": [
    {
     "data": {
      "text/plain": [
       "array([[3.08500e+01, 3.10800e+01, 3.05500e+01, 3.07100e+01, 1.74726e+07],\n",
       "       [2.94000e+01, 2.99900e+01, 2.88900e+01, 2.99800e+01, 2.09937e+07],\n",
       "       [3.02500e+01, 3.14800e+01, 2.98500e+01, 3.14000e+01, 1.76550e+07],\n",
       "       [3.20100e+01, 3.21300e+01, 3.12400e+01, 3.15000e+01, 1.66200e+07],\n",
       "       [3.20200e+01, 3.21500e+01, 3.11400e+01, 3.15300e+01, 1.46987e+07],\n",
       "       [3.10500e+01, 3.13500e+01, 3.06500e+01, 3.10700e+01, 1.46092e+07],\n",
       "       [3.11200e+01, 3.11400e+01, 3.07500e+01, 3.09200e+01, 1.01790e+07],\n",
       "       [3.12000e+01, 3.18900e+01, 3.10700e+01, 3.17600e+01, 1.54091e+07],\n",
       "       [3.18000e+01, 3.20300e+01, 3.16200e+01, 3.19600e+01, 1.17752e+07],\n",
       "       [3.20700e+01, 3.23400e+01, 3.16800e+01, 3.21500e+01, 1.31731e+07],\n",
       "       [3.27200e+01, 3.31900e+01, 3.26900e+01, 3.28800e+01, 1.69326e+07]])"
      ]
     },
     "execution_count": 3,
     "metadata": {},
     "output_type": "execute_result"
    }
   ],
   "source": [
    "data_stocks = pd.read_csv('BP.csv')\n",
    "stock = data_stocks.drop(columns=['Date'])\n",
    "stock=stock.to_numpy()\n",
    "stock"
   ]
  },
  {
   "cell_type": "code",
   "execution_count": 4,
   "id": "655327c1",
   "metadata": {},
   "outputs": [],
   "source": [
    "np.set_printoptions(suppress=False)"
   ]
  },
  {
   "cell_type": "code",
   "execution_count": 5,
   "id": "3d0a824d",
   "metadata": {},
   "outputs": [
    {
     "name": "stdout",
     "output_type": "stream",
     "text": [
      "[[ 25  11  45]\n",
      " [ 28  17  97]\n",
      " [ 43  15 132]\n",
      " [ 40  23 111]\n",
      " [ 37  12  81]\n",
      " [ 10   7  20]\n",
      " [  9   5  25]\n",
      " [ 16  12  25]\n",
      " [ 16   7  37]\n",
      " [ 12   6  31]\n",
      " [ 11  13  37]]\n",
      "-----------------\n",
      "[[3.08500e+01 3.10800e+01 3.05500e+01 3.07100e+01 1.74726e+07]\n",
      " [2.94000e+01 2.99900e+01 2.88900e+01 2.99800e+01 2.09937e+07]\n",
      " [3.02500e+01 3.14800e+01 2.98500e+01 3.14000e+01 1.76550e+07]\n",
      " [3.20100e+01 3.21300e+01 3.12400e+01 3.15000e+01 1.66200e+07]\n",
      " [3.20200e+01 3.21500e+01 3.11400e+01 3.15300e+01 1.46987e+07]\n",
      " [3.10500e+01 3.13500e+01 3.06500e+01 3.10700e+01 1.46092e+07]\n",
      " [3.11200e+01 3.11400e+01 3.07500e+01 3.09200e+01 1.01790e+07]\n",
      " [3.12000e+01 3.18900e+01 3.10700e+01 3.17600e+01 1.54091e+07]\n",
      " [3.18000e+01 3.20300e+01 3.16200e+01 3.19600e+01 1.17752e+07]\n",
      " [3.20700e+01 3.23400e+01 3.16800e+01 3.21500e+01 1.31731e+07]\n",
      " [3.27200e+01 3.31900e+01 3.26900e+01 3.28800e+01 1.69326e+07]]\n",
      "-----------------\n",
      "Sentiment length:  11\n",
      "Stock length:  11\n"
     ]
    }
   ],
   "source": [
    "senti[3]=(senti[3]+senti[1]+senti[2])/3\n",
    "senti[10]=(senti[10]+senti[8]+senti[9])/3\n",
    "\n",
    "senti=np.delete(senti, 1,0)\n",
    "senti=np.delete(senti, 1,0)\n",
    "senti=np.delete(senti, 6,0)\n",
    "senti=np.delete(senti, 6,0)\n",
    "senti=np.delete(senti, 11,0)\n",
    "\n",
    "\n",
    "print(senti)\n",
    "print('-----------------')\n",
    "print(stock)\n",
    "print('-----------------')\n",
    "print(\"Sentiment length: \" , len(senti))\n",
    "print(\"Stock length: \" , len(stock))"
   ]
  },
  {
   "cell_type": "code",
   "execution_count": 7,
   "id": "4ce4e257",
   "metadata": {},
   "outputs": [
    {
     "name": "stdout",
     "output_type": "stream",
     "text": [
      "[ 0.17283951  0.07746479  0.14736842  0.09770115  0.19230769  0.08108108\n",
      "  0.1025641   0.0754717   0.15        0.12244898 -0.03278689]\n",
      "[[ 25  11  45   0]\n",
      " [ 28  17  97   0]\n",
      " [ 43  15 132   0]\n",
      " [ 40  23 111   0]\n",
      " [ 37  12  81   0]\n",
      " [ 10   7  20   0]\n",
      " [  9   5  25   0]\n",
      " [ 16  12  25   0]\n",
      " [ 16   7  37   0]\n",
      " [ 12   6  31   0]\n",
      " [ 11  13  37   0]]\n"
     ]
    },
    {
     "data": {
      "text/plain": [
       "array([[ 25,  11,  45],\n",
       "       [ 28,  17,  97],\n",
       "       [ 43,  15, 132],\n",
       "       [ 40,  23, 111],\n",
       "       [ 37,  12,  81],\n",
       "       [ 10,   7,  20],\n",
       "       [  9,   5,  25],\n",
       "       [ 16,  12,  25],\n",
       "       [ 16,   7,  37],\n",
       "       [ 12,   6,  31],\n",
       "       [ 11,  13,  37]])"
      ]
     },
     "execution_count": 7,
     "metadata": {},
     "output_type": "execute_result"
    }
   ],
   "source": [
    "#relative mood of stock : (pos-neg)/total\n",
    "rel = (senti[:,0]-senti[:,1])/senti.sum(axis=1) #(senti[:,0]+senti[:,1]+senti[:,2])\n",
    "print(rel)\n",
    "h1 = np.insert(senti,3,rel,axis=1)\n",
    "#senti = np.delete(senti,3,axis=1)\n",
    "print(h1)"
   ]
  }
 ],
 "metadata": {
  "kernelspec": {
   "display_name": "Python 3 (ipykernel)",
   "language": "python",
   "name": "python3"
  },
  "language_info": {
   "codemirror_mode": {
    "name": "ipython",
    "version": 3
   },
   "file_extension": ".py",
   "mimetype": "text/x-python",
   "name": "python",
   "nbconvert_exporter": "python",
   "pygments_lexer": "ipython3",
   "version": "3.9.2"
  }
 },
 "nbformat": 4,
 "nbformat_minor": 5
}
