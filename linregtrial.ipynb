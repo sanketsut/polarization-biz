{
 "cells": [
  {
   "cell_type": "code",
   "execution_count": 30,
   "id": "882ac989",
   "metadata": {},
   "outputs": [],
   "source": [
    "import numpy as np\n",
    "from sklearn.linear_model import LinearRegression\n",
    "#for polynomial eq import the below statement\n",
    "from sklearn.preprocessing import PolynomialFeatures"
   ]
  },
  {
   "cell_type": "code",
   "execution_count": 6,
   "id": "cac9d6b7",
   "metadata": {},
   "outputs": [],
   "source": [
    "x = np.arange(5,60,10).reshape((-1,1))\n",
    "y = np.array([5, 20, 14, 32, 22, 38])"
   ]
  },
  {
   "cell_type": "code",
   "execution_count": 7,
   "id": "2804b656",
   "metadata": {},
   "outputs": [
    {
     "data": {
      "text/plain": [
       "array([[ 5],\n",
       "       [15],\n",
       "       [25],\n",
       "       [35],\n",
       "       [45],\n",
       "       [55]])"
      ]
     },
     "execution_count": 7,
     "metadata": {},
     "output_type": "execute_result"
    }
   ],
   "source": [
    "x"
   ]
  },
  {
   "cell_type": "code",
   "execution_count": null,
   "id": "8e66c214",
   "metadata": {},
   "outputs": [],
   "source": [
    "np.reshape((-1,6))"
   ]
  },
  {
   "cell_type": "code",
   "execution_count": 8,
   "id": "5a83b3ec",
   "metadata": {},
   "outputs": [
    {
     "data": {
      "text/plain": [
       "array([ 5, 20, 14, 32, 22, 38])"
      ]
     },
     "execution_count": 8,
     "metadata": {},
     "output_type": "execute_result"
    }
   ],
   "source": [
    "y"
   ]
  },
  {
   "cell_type": "code",
   "execution_count": 9,
   "id": "8fec0963",
   "metadata": {},
   "outputs": [],
   "source": [
    "model = LinearRegression()"
   ]
  },
  {
   "cell_type": "code",
   "execution_count": 10,
   "id": "7f887a17",
   "metadata": {},
   "outputs": [
    {
     "data": {
      "text/plain": [
       "LinearRegression()"
      ]
     },
     "execution_count": 10,
     "metadata": {},
     "output_type": "execute_result"
    }
   ],
   "source": [
    "model.fit(x,y)"
   ]
  },
  {
   "cell_type": "markdown",
   "id": "080f42cb",
   "metadata": {},
   "source": [
    "you can directly use model = LinearRegression.fit(x,y)"
   ]
  },
  {
   "cell_type": "code",
   "execution_count": 11,
   "id": "aa87fd11",
   "metadata": {},
   "outputs": [
    {
     "name": "stdout",
     "output_type": "stream",
     "text": [
      "Rsquare is 0.715875613747954\n",
      "Intercept is 5.633333333333333\n",
      "Slope is [0.54]\n"
     ]
    }
   ],
   "source": [
    "rsq = model.score(x,y)\n",
    "print('Rsquare is',rsq)\n",
    "print('Intercept is',model.intercept_)\n",
    "print('Slope is',model.coef_)"
   ]
  },
  {
   "cell_type": "code",
   "execution_count": 1,
   "id": "16c719b7",
   "metadata": {},
   "outputs": [],
   "source": [
    "#plot a graph with seaborn"
   ]
  },
  {
   "cell_type": "code",
   "execution_count": 12,
   "id": "b88790bf",
   "metadata": {},
   "outputs": [
    {
     "name": "stdout",
     "output_type": "stream",
     "text": [
      "predicted response:\n",
      "[ 8.33333333 13.73333333 19.13333333 24.53333333 29.93333333 35.33333333]\n"
     ]
    }
   ],
   "source": [
    "y_pred = model.predict(x)\n",
    "print('predicted response:',y_pred, sep='\\n')"
   ]
  },
  {
   "cell_type": "code",
   "execution_count": 13,
   "id": "14d73b17",
   "metadata": {},
   "outputs": [
    {
     "name": "stdout",
     "output_type": "stream",
     "text": [
      "[[0]\n",
      " [1]\n",
      " [2]\n",
      " [3]\n",
      " [4]]\n"
     ]
    }
   ],
   "source": [
    "x_new = np.arange(5).reshape((-1, 1))\n",
    "print(x_new)"
   ]
  },
  {
   "cell_type": "code",
   "execution_count": 14,
   "id": "76575fd9",
   "metadata": {},
   "outputs": [
    {
     "name": "stdout",
     "output_type": "stream",
     "text": [
      "[5.63333333 6.17333333 6.71333333 7.25333333 7.79333333]\n"
     ]
    }
   ],
   "source": [
    "y_new = model.predict(x_new)\n",
    "print(y_new)"
   ]
  },
  {
   "cell_type": "markdown",
   "id": "c0d9b289",
   "metadata": {},
   "source": [
    "earlier we did linear regression for one variable"
   ]
  },
  {
   "cell_type": "markdown",
   "id": "aaa23745",
   "metadata": {},
   "source": [
    "now below we do multiple var linear regression"
   ]
  },
  {
   "cell_type": "code",
   "execution_count": 15,
   "id": "cbc830ad",
   "metadata": {},
   "outputs": [],
   "source": [
    "a = [[0, 1], [5, 1], [15, 2], [25, 5], [35, 11], [45, 15], [55, 34], [60, 35]]\n",
    "b = [4, 5, 20, 14, 32, 22, 38, 43]\n",
    "a, b = np.array(a), np.array(b)"
   ]
  },
  {
   "cell_type": "code",
   "execution_count": 18,
   "id": "2aad72dc",
   "metadata": {},
   "outputs": [
    {
     "data": {
      "text/plain": [
       "array([[ 0,  1],\n",
       "       [ 5,  1],\n",
       "       [15,  2],\n",
       "       [25,  5],\n",
       "       [35, 11],\n",
       "       [45, 15],\n",
       "       [55, 34],\n",
       "       [60, 35]])"
      ]
     },
     "execution_count": 18,
     "metadata": {},
     "output_type": "execute_result"
    }
   ],
   "source": [
    "a"
   ]
  },
  {
   "cell_type": "code",
   "execution_count": 19,
   "id": "2402d4ae",
   "metadata": {},
   "outputs": [
    {
     "data": {
      "text/plain": [
       "array([ 4,  5, 20, 14, 32, 22, 38, 43])"
      ]
     },
     "execution_count": 19,
     "metadata": {},
     "output_type": "execute_result"
    }
   ],
   "source": [
    "b"
   ]
  },
  {
   "cell_type": "code",
   "execution_count": 20,
   "id": "7ac08ef9",
   "metadata": {},
   "outputs": [],
   "source": [
    "model1 = LinearRegression().fit(a,b)"
   ]
  },
  {
   "cell_type": "code",
   "execution_count": 21,
   "id": "1cbfb7b8",
   "metadata": {},
   "outputs": [
    {
     "name": "stdout",
     "output_type": "stream",
     "text": [
      "Coeff of covar: 0.8615939258756776\n",
      "Intercept: 5.52257927519819\n",
      "Slope: [0.44706965 0.25502548]\n"
     ]
    }
   ],
   "source": [
    "rsq1 = model1.score(a,b)\n",
    "print('Coeff of covar:',rsq1)\n",
    "print('Intercept:',model1.intercept_)\n",
    "print('Slope:',model1.coef_)"
   ]
  },
  {
   "cell_type": "code",
   "execution_count": 24,
   "id": "99cb9c34",
   "metadata": {},
   "outputs": [
    {
     "name": "stdout",
     "output_type": "stream",
     "text": [
      "predicted response:\n",
      "[ 5.77760476  8.012953   12.73867497 17.9744479  23.97529728 29.4660957\n",
      " 38.78227633 41.27265006]\n"
     ]
    }
   ],
   "source": [
    "b_pred = model1.predict(a)\n",
    "print('predicted response:', b_pred, sep='\\n')"
   ]
  },
  {
   "cell_type": "code",
   "execution_count": 27,
   "id": "a05bdce0",
   "metadata": {},
   "outputs": [
    {
     "name": "stdout",
     "output_type": "stream",
     "text": [
      "[[0 1]\n",
      " [2 3]\n",
      " [4 5]\n",
      " [6 7]\n",
      " [8 9]]\n",
      "[ 5.77760476  7.18179502  8.58598528  9.99017554 11.3943658 ]\n"
     ]
    }
   ],
   "source": [
    "a_new = np.arange(10).reshape((-1,2))\n",
    "print(a_new)\n",
    "b_new = model1.predict(a_new)\n",
    "print(b_new)"
   ]
  },
  {
   "cell_type": "markdown",
   "id": "da176858",
   "metadata": {},
   "source": [
    "here we completed multi variable linear regression, like f(x,y) = ax+by+c"
   ]
  },
  {
   "cell_type": "markdown",
   "id": "2a988602",
   "metadata": {},
   "source": [
    "now we will do polynomial regression"
   ]
  },
  {
   "cell_type": "code",
   "execution_count": 34,
   "id": "16b077e6",
   "metadata": {},
   "outputs": [],
   "source": [
    "c = np.array([5, 15, 25, 35, 45, 55]).reshape((-1, 1))\n",
    "d = np.array([15, 11, 2, 8, 25, 32])\n",
    "#this reshape in c is done to convert the data into two dimensional from 1D. See below that data has transformed\n",
    "#from 1D linear array to 2D array, with every point on a single line (array)"
   ]
  },
  {
   "cell_type": "code",
   "execution_count": 32,
   "id": "5becf4f7",
   "metadata": {},
   "outputs": [
    {
     "name": "stdout",
     "output_type": "stream",
     "text": [
      "[[ 5]\n",
      " [15]\n",
      " [25]\n",
      " [35]\n",
      " [45]\n",
      " [55]]\n"
     ]
    }
   ],
   "source": [
    "print(c)"
   ]
  },
  {
   "cell_type": "code",
   "execution_count": 33,
   "id": "edf53b86",
   "metadata": {},
   "outputs": [
    {
     "name": "stdout",
     "output_type": "stream",
     "text": [
      "[15 11  2  8 25 32]\n"
     ]
    }
   ],
   "source": [
    "print(d)"
   ]
  },
  {
   "cell_type": "code",
   "execution_count": 35,
   "id": "fda1b041",
   "metadata": {},
   "outputs": [],
   "source": [
    "transformer = PolynomialFeatures(degree=2,include_bias=False)"
   ]
  },
  {
   "cell_type": "code",
   "execution_count": 37,
   "id": "47e2dcc4",
   "metadata": {},
   "outputs": [
    {
     "data": {
      "text/plain": [
       "PolynomialFeatures(include_bias=False)"
      ]
     },
     "execution_count": 37,
     "metadata": {},
     "output_type": "execute_result"
    }
   ],
   "source": [
    "transformer.fit(c)"
   ]
  },
  {
   "cell_type": "code",
   "execution_count": 38,
   "id": "c84d3b60",
   "metadata": {},
   "outputs": [],
   "source": [
    "c_ = transformer.transform(c)"
   ]
  },
  {
   "cell_type": "code",
   "execution_count": 39,
   "id": "7b174f1d",
   "metadata": {},
   "outputs": [],
   "source": [
    "# or you can also write c_ = PolynomialFeatures(degree=2, include_bias=False).fit_transform(c)"
   ]
  },
  {
   "cell_type": "code",
   "execution_count": 40,
   "id": "41b6e944",
   "metadata": {},
   "outputs": [
    {
     "name": "stdout",
     "output_type": "stream",
     "text": [
      "[[   5.   25.]\n",
      " [  15.  225.]\n",
      " [  25.  625.]\n",
      " [  35. 1225.]\n",
      " [  45. 2025.]\n",
      " [  55. 3025.]]\n"
     ]
    }
   ],
   "source": [
    "print(c_)"
   ]
  },
  {
   "cell_type": "code",
   "execution_count": 41,
   "id": "a16cb1c9",
   "metadata": {},
   "outputs": [],
   "source": [
    "model2 = LinearRegression().fit(c_,d)"
   ]
  },
  {
   "cell_type": "code",
   "execution_count": 42,
   "id": "da72d253",
   "metadata": {},
   "outputs": [
    {
     "name": "stdout",
     "output_type": "stream",
     "text": [
      "Coeff of covar: 0.8908516262498564\n",
      "Slope: [-1.32357143  0.02839286]\n",
      "Intercept: 21.37232142857143\n"
     ]
    }
   ],
   "source": [
    "rsq2 = model2.score(c_,d)\n",
    "print('Coeff of covar:',rsq2)\n",
    "print('Slope:',model2.coef_)\n",
    "print('Intercept:',model2.intercept_)"
   ]
  },
  {
   "cell_type": "code",
   "execution_count": 44,
   "id": "715aacf3",
   "metadata": {},
   "outputs": [],
   "source": [
    "c_ = PolynomialFeatures(degree=2, include_bias=True).fit_transform(c)"
   ]
  },
  {
   "cell_type": "code",
   "execution_count": 45,
   "id": "e8334edc",
   "metadata": {},
   "outputs": [
    {
     "name": "stdout",
     "output_type": "stream",
     "text": [
      "[[1.000e+00 5.000e+00 2.500e+01]\n",
      " [1.000e+00 1.500e+01 2.250e+02]\n",
      " [1.000e+00 2.500e+01 6.250e+02]\n",
      " [1.000e+00 3.500e+01 1.225e+03]\n",
      " [1.000e+00 4.500e+01 2.025e+03]\n",
      " [1.000e+00 5.500e+01 3.025e+03]]\n"
     ]
    }
   ],
   "source": [
    "print(c_)"
   ]
  },
  {
   "cell_type": "code",
   "execution_count": 46,
   "id": "aa9d6b9b",
   "metadata": {},
   "outputs": [],
   "source": [
    "model2 = LinearRegression(fit_intercept=False).fit(c_,d)"
   ]
  },
  {
   "cell_type": "code",
   "execution_count": 48,
   "id": "9d954edf",
   "metadata": {},
   "outputs": [
    {
     "name": "stdout",
     "output_type": "stream",
     "text": [
      "Coeff of covar: 0.8908516262498563\n",
      "Slope: [21.37232143 -1.32357143  0.02839286]\n",
      "Intercept: 0.0\n"
     ]
    }
   ],
   "source": [
    "rsq2 = model2.score(c_,d)\n",
    "print('Coeff of covar:',rsq2)\n",
    "print('Slope:',model2.coef_)\n",
    "print('Intercept:',model2.intercept_)"
   ]
  },
  {
   "cell_type": "code",
   "execution_count": 51,
   "id": "63af899f",
   "metadata": {},
   "outputs": [
    {
     "name": "stdout",
     "output_type": "stream",
     "text": [
      "predicted response:\n",
      "[15.46428571  7.90714286  6.02857143  9.82857143 19.30714286 34.46428571]\n"
     ]
    }
   ],
   "source": [
    "d_pred = model2.predict(c_)\n",
    "print('predicted response:', d_pred, sep='\\n')"
   ]
  },
  {
   "cell_type": "code",
   "execution_count": null,
   "id": "eb199827",
   "metadata": {},
   "outputs": [],
   "source": []
  }
 ],
 "metadata": {
  "kernelspec": {
   "display_name": "Python 3 (ipykernel)",
   "language": "python",
   "name": "python3"
  },
  "language_info": {
   "codemirror_mode": {
    "name": "ipython",
    "version": 3
   },
   "file_extension": ".py",
   "mimetype": "text/x-python",
   "name": "python",
   "nbconvert_exporter": "python",
   "pygments_lexer": "ipython3",
   "version": "3.9.2"
  }
 },
 "nbformat": 4,
 "nbformat_minor": 5
}
